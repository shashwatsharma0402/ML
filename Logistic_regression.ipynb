{
 "cells": [
  {
   "cell_type": "code",
   "execution_count": 5,
   "metadata": {},
   "outputs": [],
   "source": [
    "import pandas as pd\n",
    "import numpy as np\n",
    "import matplotlib.pyplot as plt"
   ]
  },
  {
   "cell_type": "code",
   "execution_count": 8,
   "metadata": {},
   "outputs": [],
   "source": [
    "test=pd.read_csv(\"test.csv\")\n",
    "train=pd.read_csv(\"train.csv\")"
   ]
  },
  {
   "cell_type": "code",
   "execution_count": null,
   "metadata": {},
   "outputs": [],
   "source": [
    "fig=plt.figure(figsize=(18,6))\n",
    "\n",
    "plt.subplot2grid((3,4),(0,0))\n",
    "df['Survived'].value_counts(normalize=True).plot(kind='bar',alpha=0.5)\n",
    "plt.title(\"Survived\")\n",
    "\n",
    "plt.subplot2grid((3,4),(0,1))\n",
    "df['Survived'][df['Sex']=='male'].value_counts(normalize=True).plot(kind='bar',alpha=0.5)\n",
    "plt.title(\"Men Survived\")\n",
    "\n",
    "plt.subplot2grid((3,4),(0,2))\n",
    "df['Survived'][df['Sex']=='female'].value_counts(normalize=True).plot(kind='bar',alpha=0.5)\n",
    "plt.title(\"Women Survived\")\n",
    "\n",
    "plt.subplot2grid((3,4),(0,3))\n",
    "df['Sex'][df['Survived']==1].value_counts(normalize=True).plot(kind='bar',alpha=0.5)\n",
    "plt.title(\"Women Survived\")\n",
    "\n",
    "plt.subplot2grid((3,4),(1,0),colspan=2)\n",
    "for x in df['Pclass'].unique():\n",
    "    df['Survived'][df['Pclass']==x].plot(kind='kde')\n",
    "plt.title(\"Class wrt Survived\")\n",
    "plt.legend((\"1st\",\"2nd\",\"3rd\"))\n",
    "\n",
    "plt.subplot2grid((3,4),(1,2))\n",
    "filt=(df['Sex']=='male') & (df['Pclass']==1)\n",
    "df.loc[filt,'Survived'].value_counts( normalize=True).plot(kind='bar',alpha=0.5)\n",
    "# df['Survived'][df['Sex']=='male' & df['Pclass']==1].value_counts( normalize=True).plot(kind='bar',alpha=0.5)\n",
    "plt.title(\"Rich Men Survived\")\n",
    "\n",
    "plt.subplot2grid((3,4),(1,3))\n",
    "df['Survived'][(df['Sex']=='male') & (df['Pclass']==3)].value_counts( normalize=True).plot(kind='bar',alpha=0.5)\n",
    "plt.title(\"Poor Men Survived\")\n",
    "\n",
    "plt.subplot2grid((3,4),(2,2))\n",
    "filt=(df['Sex']=='female') & (df['Pclass']==1)\n",
    "df.loc[filt,'Survived'].value_counts( normalize=True).plot(kind='bar',alpha=0.5)\n",
    "# df['Survived'][df['Sex']=='male' & df['Pclass']==1].value_counts( normalize=True).plot(kind='bar',alpha=0.5)\n",
    "plt.title(\"Rich Women Survived\")\n",
    "\n",
    "plt.subplot2grid((3,4),(2,3))\n",
    "df['Survived'][(df['Sex']=='female') & (df['Pclass']==3)].value_counts( normalize=True).plot(kind='bar',alpha=0.5)\n",
    "plt.title(\"Poor Women Survived\")\n",
    "\n",
    "plt.show()"
   ]
  },
  {
   "cell_type": "code",
   "execution_count": null,
   "metadata": {},
   "outputs": [],
   "source": [
    "fig=plt.figure(figsize=(18,6))\n",
    "\n",
    "plt.subplot2grid((2,3),(0,0))\n",
    "df['Survived'].value_counts(normalize=True).plot(kind='bar',alpha=0.5)\n",
    "plt.title(\"Survived\")\n",
    "\n",
    "plt.subplot2grid((2,3),(0,1))\n",
    "plt.scatter(df['Survived'],df['Age'],alpha=0.6)\n",
    "plt.title(\"Survivor wrt Age\")\n",
    "\n",
    "plt.subplot2grid((2,3),(0,2))\n",
    "df['Pclass'].value_counts(normalize=True).plot(kind='bar',alpha=0.5)\n",
    "plt.title(\"Survivor wrt Age\")\n",
    "\n",
    "plt.subplot2grid((2,3),(1,0),colspan=2)\n",
    "# for x in df['Pclass'].unique():\n",
    "#     filt=df['Pclass']==x\n",
    "#     df.loc[filt,['Age']].plot(kind='kde')\n",
    "for x in df['Pclass'].unique():\n",
    "    df['Age'][df['Pclass']==x].plot(kind='kde')\n",
    "plt.title(\"Class wrt Age\")\n",
    "plt.legend((\"1st\",\"2nd\",\"3rd\"))\n",
    "\n",
    "plt.show()"
   ]
  },
  {
   "cell_type": "code",
   "execution_count": 77,
   "metadata": {},
   "outputs": [],
   "source": [
    "def clean_data(data):\n",
    "    data[\"Fare\"]=data[\"Fare\"].fillna(data['Fare'].dropna().median())\n",
    "    data[\"Age\"]=data[\"Age\"].fillna(data['Age'].dropna().median())\n",
    "    \n",
    "    data.loc[data['Sex'] ==\"male\",\"Sex\"]=0\n",
    "    data.loc[data['Sex'] ==\"female\",\"Sex\"]=1\n",
    "    data[\"Embarked\"]=data['Embarked'].fillna(\"S\")\n",
    "    data.loc[data[\"Embarked\"]==\"S\",\"Embarked\"]=0\n",
    "    data.loc[data[\"Embarked\"]==\"C\",\"Embarked\"]=1\n",
    "    data.loc[data[\"Embarked\"]==\"Q\",\"Embarked\"]=2\n",
    "    \n",
    "    data['Cabin'] = data['Cabin'].fillna('Missing')\n",
    "    data['Cabin'] = data['Cabin'].str[0]\n",
    "    data['Cabin'].value_counts()\n",
    "    \n",
    "    #Family Size & Alone \n",
    "    data['Family_Size'] = data['SibSp'] + data['Parch'] + 1\n",
    "    data['IsAlone'] = 0\n",
    "    data.loc[data['Family_Size']==1, 'IsAlone'] = 1\n",
    "    data.head()\n",
    "\n"
   ]
  },
  {
   "cell_type": "code",
   "execution_count": 37,
   "metadata": {},
   "outputs": [],
   "source": [
    "clean_data(train)\n",
    "clean_data(test)"
   ]
  },
  {
   "cell_type": "code",
   "execution_count": null,
   "metadata": {},
   "outputs": [],
   "source": [
    "train=pd.read_csv('train.csv')\n",
    "train['Hypothesis']=0\n",
    "train['Hypothesis'][df.Sex=='female']=1\n",
    "train['Result']=0\n",
    "train['Result'][train['Survived']==train['Hypothesis']]=1\n",
    "train['Result'].value_counts(normalize=True)"
   ]
  },
  {
   "cell_type": "code",
   "execution_count": 78,
   "metadata": {},
   "outputs": [
    {
     "name": "stdout",
     "output_type": "stream",
     "text": [
      "Test accuracy 0.7991021324354658\n"
     ]
    }
   ],
   "source": [
    "from sklearn import preprocessing,svm\n",
    "from sklearn.linear_model import LinearRegression,LogisticRegression\n",
    "\n",
    "target = train[\"Survived\"].values\n",
    "features = train[[\"Pclass\", \"Age\", \"Sex\", \"Fare\", \"SibSp\", \"Parch\", \"Embarked\"]].values\n",
    "test_features = test[[\"Pclass\", \"Age\", \"Sex\", \"Fare\", \"SibSp\", \"Parch\", \"Embarked\"]].values\n",
    "\n",
    "clf=LogisticRegression(solver = 'liblinear')\n",
    "clf.fit(features,target)\n",
    "print(\"Train accuracy\",clf.score(features,target))"
   ]
  },
  {
   "cell_type": "code",
   "execution_count": 43,
   "metadata": {
    "collapsed": true
   },
   "outputs": [
    {
     "name": "stdout",
     "output_type": "stream",
     "text": [
      "<class 'pandas.core.frame.DataFrame'>\n",
      "Int64Index: 1309 entries, 0 to 417\n",
      "Data columns (total 12 columns):\n",
      "PassengerId    1309 non-null int64\n",
      "Survived       891 non-null float64\n",
      "Pclass         1309 non-null int64\n",
      "Name           1309 non-null object\n",
      "Sex            1309 non-null int64\n",
      "Age            1309 non-null float64\n",
      "SibSp          1309 non-null int64\n",
      "Parch          1309 non-null int64\n",
      "Ticket         1309 non-null object\n",
      "Fare           1309 non-null float64\n",
      "Cabin          295 non-null object\n",
      "Embarked       1309 non-null int64\n",
      "dtypes: float64(3), int64(6), object(3)\n",
      "memory usage: 132.9+ KB\n"
     ]
    }
   ],
   "source": [
    "c_data = pd.concat([train, test], sort = False)\n",
    "c_data.info()"
   ]
  },
  {
   "cell_type": "code",
   "execution_count": 72,
   "metadata": {
    "collapsed": true
   },
   "outputs": [
    {
     "name": "stdout",
     "output_type": "stream",
     "text": [
      "<class 'pandas.core.frame.DataFrame'>\n",
      "Int64Index: 891 entries, 0 to 890\n",
      "Data columns (total 25 columns):\n",
      "PassengerId       891 non-null int64\n",
      "Survived          891 non-null float64\n",
      "Pclass            891 non-null int64\n",
      "Sex               891 non-null int64\n",
      "Age               891 non-null float64\n",
      "SibSp             891 non-null int64\n",
      "Parch             891 non-null int64\n",
      "Fare              891 non-null float64\n",
      "Embarked          891 non-null int64\n",
      "Family_Size       891 non-null int64\n",
      "IsAlone           891 non-null int64\n",
      "Cabin_B           891 non-null uint8\n",
      "Cabin_C           891 non-null uint8\n",
      "Cabin_D           891 non-null uint8\n",
      "Cabin_E           891 non-null uint8\n",
      "Cabin_F           891 non-null uint8\n",
      "Cabin_G           891 non-null uint8\n",
      "Cabin_M           891 non-null uint8\n",
      "Cabin_T           891 non-null uint8\n",
      "Title_Master.     891 non-null uint8\n",
      "Title_Miss.       891 non-null uint8\n",
      "Title_Mr.         891 non-null uint8\n",
      "Title_Mrs.        891 non-null uint8\n",
      "Title_Officer.    891 non-null uint8\n",
      "Title_Royal.      891 non-null uint8\n",
      "dtypes: float64(3), int64(8), uint8(14)\n",
      "memory usage: 95.7 KB\n",
      "<class 'pandas.core.frame.DataFrame'>\n",
      "Int64Index: 418 entries, 0 to 417\n",
      "Data columns (total 25 columns):\n",
      "PassengerId       418 non-null int64\n",
      "Survived          0 non-null float64\n",
      "Pclass            418 non-null int64\n",
      "Sex               418 non-null int64\n",
      "Age               418 non-null float64\n",
      "SibSp             418 non-null int64\n",
      "Parch             418 non-null int64\n",
      "Fare              418 non-null float64\n",
      "Embarked          418 non-null int64\n",
      "Family_Size       418 non-null int64\n",
      "IsAlone           418 non-null int64\n",
      "Cabin_B           418 non-null uint8\n",
      "Cabin_C           418 non-null uint8\n",
      "Cabin_D           418 non-null uint8\n",
      "Cabin_E           418 non-null uint8\n",
      "Cabin_F           418 non-null uint8\n",
      "Cabin_G           418 non-null uint8\n",
      "Cabin_M           418 non-null uint8\n",
      "Cabin_T           418 non-null uint8\n",
      "Title_Master.     418 non-null uint8\n",
      "Title_Miss.       418 non-null uint8\n",
      "Title_Mr.         418 non-null uint8\n",
      "Title_Mrs.        418 non-null uint8\n",
      "Title_Officer.    418 non-null uint8\n",
      "Title_Royal.      418 non-null uint8\n",
      "dtypes: float64(3), int64(8), uint8(14)\n",
      "memory usage: 44.9 KB\n"
     ]
    }
   ],
   "source": [
    "# Drop unwanted variables\n",
    "all_1 = c_data.drop(['Name', 'Ticket'], axis = 1)\n",
    "all_1.head()\n",
    "\n",
    "all_dummies = pd.get_dummies(all_1, drop_first = True)\n",
    "all_dummies.head()\n",
    "\n",
    "all_train = all_dummies[all_dummies['Survived'].notna()]\n",
    "all_train.info()\n",
    "\n",
    "all_test = all_dummies[all_dummies['Survived'].isna()]\n",
    "all_test.info()\n",
    "\n",
    "# all_train = c_data[c_data['Survived'].notna()]\n",
    "# all_train.info()\n",
    "\n",
    "# all_test = c_data[c_data['Survived'].isna()]\n",
    "# all_test.info()\n",
    "\n"
   ]
  },
  {
   "cell_type": "code",
   "execution_count": 81,
   "metadata": {},
   "outputs": [
    {
     "name": "stdout",
     "output_type": "stream",
     "text": [
      "0.8097014925373134\n"
     ]
    }
   ],
   "source": [
    "from sklearn.model_selection import train_test_split\n",
    "from sklearn.linear_model import LogisticRegression\n",
    "X_train, X_test, y_train, y_test = train_test_split(all_train.drop(['PassengerId','Survived'],axis=1),all_train['Survived'], test_size=0.30,random_state=101)\n",
    "\n",
    "logmodel = LogisticRegression(solver = 'liblinear')\n",
    "logmodel.fit(X_train,y_train)\n",
    "predictions = logmodel.predict(X_test)\n",
    "print(logmodel.score(X_test,y_test))"
   ]
  },
  {
   "cell_type": "code",
   "execution_count": 106,
   "metadata": {},
   "outputs": [
    {
     "name": "stdout",
     "output_type": "stream",
     "text": [
      "\n",
      "Use polynomial features\n",
      "0.8698092031425365\n"
     ]
    },
    {
     "name": "stderr",
     "output_type": "stream",
     "text": [
      "F:\\python\\anaconda\\lib\\site-packages\\sklearn\\svm\\base.py:931: ConvergenceWarning: Liblinear failed to converge, increase the number of iterations.\n",
      "  \"the number of iterations.\", ConvergenceWarning)\n"
     ]
    }
   ],
   "source": [
    "print (\"\\nUse polynomial features\")\n",
    "poly = preprocessing.PolynomialFeatures(degree=2)\n",
    "features_ = poly.fit_transform(all_train.drop(['PassengerId','Survived'],axis=1))\n",
    "\n",
    "clf11 = LogisticRegression(solver = 'liblinear')\n",
    "clf11.fit(features_,all_train['Survived'])\n",
    "print(clf11.score(features_,all_train['Survived']))\n",
    "\n",
    "# scores = model_selection.cross_val_score(clf, features_, target, scoring='accuracy', cv=10)\n",
    "# print (scores)\n",
    "# print (scores.mean())\n",
    "\n",
    "# test_features_ = poly.fit_transform(test_features)\n",
    "\n",
    "# from sklearn.preprocessing import PolynomialFeatures\n",
    "# poly_reg = PolynomialFeatures(degree=4)\n",
    "# X_poly = poly_reg.fit_transform(X)\n",
    "# pol_reg = LinearRegression()\n",
    "# pol_reg.fit(X_poly, y)"
   ]
  }
 ],
 "metadata": {
  "kernelspec": {
   "display_name": "Python 3",
   "language": "python",
   "name": "python3"
  },
  "language_info": {
   "codemirror_mode": {
    "name": "ipython",
    "version": 3
   },
   "file_extension": ".py",
   "mimetype": "text/x-python",
   "name": "python",
   "nbconvert_exporter": "python",
   "pygments_lexer": "ipython3",
   "version": "3.7.3"
  }
 },
 "nbformat": 4,
 "nbformat_minor": 2
}
